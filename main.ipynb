{
  "nbformat": 4,
  "nbformat_minor": 0,
  "metadata": {
    "colab": {
      "provenance": [],
      "authorship_tag": "ABX9TyM+y147Y04h+uC7aZ+wD5hM",
      "include_colab_link": true
    },
    "kernelspec": {
      "name": "python3",
      "display_name": "Python 3"
    },
    "language_info": {
      "name": "python"
    }
  },
  "cells": [
    {
      "cell_type": "markdown",
      "metadata": {
        "id": "view-in-github",
        "colab_type": "text"
      },
      "source": [
        "<a href=\"https://colab.research.google.com/github/vishnu-vardanreddy/Recipe_App/blob/main/main.ipynb\" target=\"_parent\"><img src=\"https://colab.research.google.com/assets/colab-badge.svg\" alt=\"Open In Colab\"/></a>"
      ]
    },
    {
      "cell_type": "code",
      "execution_count": null,
      "metadata": {
        "id": "Mgpfls0CKfjK"
      },
      "outputs": [],
      "source": [
        "import streamlit as st\n",
        "import tensorflow as tf\n",
        "import numpy as np\n",
        "\n",
        "\n",
        "#Tensorflow Model Prediction\n",
        "def model_prediction(test_image):\n",
        "    model = tf.keras.models.load_model(\"trained_model.h5\")\n",
        "    image = tf.keras.preprocessing.image.load_img(test_image,target_size=(64,64))\n",
        "    input_arr = tf.keras.preprocessing.image.img_to_array(image)\n",
        "    input_arr = np.array([input_arr]) #convert single image to batch\n",
        "    predictions = model.predict(input_arr)\n",
        "    return np.argmax(predictions) #return index of max element\n",
        "\n",
        "#Sidebar\n",
        "st.sidebar.title(\"Dashboard\")\n",
        "app_mode = st.sidebar.selectbox(\"Select Page\",[\"Home\",\"About Project\",\"Prediction\"])\n",
        "\n",
        "#Main Page\n",
        "if(app_mode==\"Home\"):\n",
        "    st.header(\"FRUITS & VEGETABLES RECOGNITION SYSTEM\")\n",
        "    image_path = \"home_img.jpg\"\n",
        "    st.image(image_path)\n",
        "\n",
        "#About Project\n",
        "elif(app_mode==\"About Project\"):\n",
        "    st.header(\"About Project\")\n",
        "    st.subheader(\"About Dataset\")\n",
        "    st.text(\"This dataset contains images of the following food items:\")\n",
        "    st.code(\"fruits- banana, apple, pear, grapes, orange, kiwi, watermelon, pomegranate, pineapple, mango.\")\n",
        "    st.code(\"vegetables- cucumber, carrot, capsicum, onion, potato, lemon, tomato, raddish, beetroot, cabbage, lettuce, spinach, soy bean, cauliflower, bell pepper, chilli pepper, turnip, corn, sweetcorn, sweet potato, paprika, jalepeño, ginger, garlic, peas, eggplant.\")\n",
        "    st.subheader(\"Content\")\n",
        "    st.text(\"This dataset contains three folders:\")\n",
        "    st.text(\"1. train (100 images each)\")\n",
        "    st.text(\"2. test (10 images each)\")\n",
        "    st.text(\"3. validation (10 images each)\")\n",
        "\n",
        "#Prediction Page\n",
        "elif(app_mode==\"Prediction\"):\n",
        "    st.header(\"Model Prediction\")\n",
        "    test_image = st.file_uploader(\"Choose an Image:\")\n",
        "    if(st.button(\"Show Image\")):\n",
        "        st.image(test_image,width=4,use_column_width=True)\n",
        "    #Predict button\n",
        "    if(st.button(\"Predict\")):\n",
        "        st.snow()\n",
        "        st.write(\"Our Prediction\")\n",
        "        result_index = model_prediction(test_image)\n",
        "        #Reading Labels\n",
        "        with open(\"labels.txt\") as f:\n",
        "            content = f.readlines()\n",
        "        label = []\n",
        "        for i in content:\n",
        "            label.append(i[:-1])\n",
        "        st.success(\"Model is Predicting it's a {}\".format(label[result_index]))"
      ]
    }
  ]
}